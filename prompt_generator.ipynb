{
 "cells": [
  {
   "cell_type": "markdown",
   "metadata": {},
   "source": [
    "## Match URI with MD dir"
   ]
  },
  {
   "cell_type": "code",
   "execution_count": 1,
   "metadata": {},
   "outputs": [],
   "source": [
    "data = {\n",
    "    \"dir\": [\n",
    "        \"docs/README.md\",\n",
    "        \"docs/lp-finance-protocol/quick-user-guide.md\",\n",
    "        \"docs/lp-finance-protocol/view-protocol-data.md\",\n",
    "        \"docs/lp-finance-protocol/user-faq.md\",\n",
    "        \"docs/protocol/minting-borrowing-zsol.md\",\n",
    "        \"docs/protocol/zsol-sol-liquidity-providers.md\",\n",
    "        \"docs/protocol/peg-stability-module.md\",\n",
    "        \"docs/protocol/liquidation.md\",\n",
    "        \"docs/protocol/oracles.md\",\n",
    "        \"docs/lpfi-staking/lpfi-staking.md\",\n",
    "        \"docs/governance/governance.md\",\n",
    "        \"docs/addresses/programs.md\",\n",
    "        \"docs/addresses/tokens.md\",\n",
    "        \"docs/links/links.md\"\n",
    "    ],\n",
    "    \"uri\": [\n",
    "        \"https://docs.lp.finance/\",\n",
    "        \"https://docs.lp.finance/lp-finance-protocol/quick-user-guide\",\n",
    "        \"https://docs.lp.finance/lp-finance-protocol/view-protocol-data\",\n",
    "        \"https://docs.lp.finance/lp-finance-protocol/user-faq\",\n",
    "        \"https://docs.lp.finance/protocol/minting-borrowing-zsol\",\n",
    "        \"https://docs.lp.finance/protocol/zsol-sol-liquidity-providers\",\n",
    "        \"https://docs.lp.finance/protocol/peg-stability-module\",\n",
    "        \"https://docs.lp.finance/protocol/liquidation\",\n",
    "        \"https://docs.lp.finance/protocol/oracles\",\n",
    "        \"https://docs.lp.finance/lpfi-staking/lpfi-staking\",\n",
    "        \"https://docs.lp.finance/governance/governance\",\n",
    "        \"https://docs.lp.finance/addresses/programs\",\n",
    "        \"https://docs.lp.finance/addresses/tokens\",\n",
    "        \"https://docs.lp.finance/links/links\"\n",
    "    ]\n",
    "}"
   ]
  },
  {
   "cell_type": "markdown",
   "metadata": {},
   "source": [
    "## Get Embeddings"
   ]
  },
  {
   "cell_type": "code",
   "execution_count": 13,
   "metadata": {},
   "outputs": [],
   "source": [
    "import openai\n",
    "import pandas as pd\n",
    "import os\n",
    "from dotenv import load_dotenv\n",
    "load_dotenv()\n",
    "openai.api_key=os.environ.get(\"OPENAI_KEY\")"
   ]
  },
  {
   "cell_type": "code",
   "execution_count": 14,
   "metadata": {},
   "outputs": [],
   "source": [
    "def get_embedding(text):\n",
    "    embedding = openai.Embedding.create(\n",
    "        input=text, model=\"text-embedding-ada-002\"\n",
    "    )[\"data\"][0][\"embedding\"]\n",
    "    return embedding"
   ]
  },
  {
   "cell_type": "code",
   "execution_count": 15,
   "metadata": {},
   "outputs": [],
   "source": [
    "text_array = []\n",
    "for i in data[\"dir\"]:\n",
    "    with open(i, \"r\") as f:\n",
    "        text = f.read()\n",
    "        text_array.append(text)\n",
    "        f.close()\n",
    "\n",
    "df = pd.DataFrame.from_dict({\"name\": data[\"dir\"], \"url\": data[\"uri\"], \"text\": text_array})"
   ]
  },
  {
   "cell_type": "code",
   "execution_count": 16,
   "metadata": {},
   "outputs": [
    {
     "data": {
      "text/html": [
       "<div>\n",
       "<style scoped>\n",
       "    .dataframe tbody tr th:only-of-type {\n",
       "        vertical-align: middle;\n",
       "    }\n",
       "\n",
       "    .dataframe tbody tr th {\n",
       "        vertical-align: top;\n",
       "    }\n",
       "\n",
       "    .dataframe thead th {\n",
       "        text-align: right;\n",
       "    }\n",
       "</style>\n",
       "<table border=\"1\" class=\"dataframe\">\n",
       "  <thead>\n",
       "    <tr style=\"text-align: right;\">\n",
       "      <th></th>\n",
       "      <th>name</th>\n",
       "      <th>url</th>\n",
       "      <th>text</th>\n",
       "      <th>embedding</th>\n",
       "    </tr>\n",
       "  </thead>\n",
       "  <tbody>\n",
       "    <tr>\n",
       "      <th>0</th>\n",
       "      <td>docs/README.md</td>\n",
       "      <td>https://docs.lp.finance/</td>\n",
       "      <td>---\\ndescription: &gt;-\\n  In this document, the ...</td>\n",
       "      <td>[0.0030690261628478765, 0.014892998151481152, ...</td>\n",
       "    </tr>\n",
       "    <tr>\n",
       "      <th>1</th>\n",
       "      <td>docs/lp-finance-protocol/quick-user-guide.md</td>\n",
       "      <td>https://docs.lp.finance/lp-finance-protocol/qu...</td>\n",
       "      <td># Quick User Guide\\n\\n## Deposit Collateral\\n\\...</td>\n",
       "      <td>[0.009227563627064228, 0.02060684561729431, 0....</td>\n",
       "    </tr>\n",
       "    <tr>\n",
       "      <th>2</th>\n",
       "      <td>docs/lp-finance-protocol/view-protocol-data.md</td>\n",
       "      <td>https://docs.lp.finance/lp-finance-protocol/vi...</td>\n",
       "      <td># View Protocol Data\\n\\n&lt;figure&gt;&lt;img src=\"../....</td>\n",
       "      <td>[0.006939202547073364, 0.016189193353056908, 0...</td>\n",
       "    </tr>\n",
       "    <tr>\n",
       "      <th>3</th>\n",
       "      <td>docs/lp-finance-protocol/user-faq.md</td>\n",
       "      <td>https://docs.lp.finance/lp-finance-protocol/us...</td>\n",
       "      <td># User FAQ\\n\\n### Why is \"Your Account\" page n...</td>\n",
       "      <td>[-0.009891600348055363, 0.009116998873651028, ...</td>\n",
       "    </tr>\n",
       "    <tr>\n",
       "      <th>4</th>\n",
       "      <td>docs/protocol/minting-borrowing-zsol.md</td>\n",
       "      <td>https://docs.lp.finance/protocol/minting-borro...</td>\n",
       "      <td># Minting/Borrowing zSOL\\n\\nzSOL is a over col...</td>\n",
       "      <td>[0.002876314101740718, 0.02002980187535286, 0....</td>\n",
       "    </tr>\n",
       "    <tr>\n",
       "      <th>5</th>\n",
       "      <td>docs/protocol/zsol-sol-liquidity-providers.md</td>\n",
       "      <td>https://docs.lp.finance/protocol/zsol-sol-liqu...</td>\n",
       "      <td># zSOL-SOL Liquidity Providers\\n\\nzSOL-SOL liq...</td>\n",
       "      <td>[0.01576395332813263, 0.019564801827073097, 0....</td>\n",
       "    </tr>\n",
       "    <tr>\n",
       "      <th>6</th>\n",
       "      <td>docs/protocol/peg-stability-module.md</td>\n",
       "      <td>https://docs.lp.finance/protocol/peg-stability...</td>\n",
       "      <td># Peg-stability Module\\n\\nPeg-stability module...</td>\n",
       "      <td>[0.009073340333998203, 0.014598997309803963, -...</td>\n",
       "    </tr>\n",
       "    <tr>\n",
       "      <th>7</th>\n",
       "      <td>docs/protocol/liquidation.md</td>\n",
       "      <td>https://docs.lp.finance/protocol/liquidation</td>\n",
       "      <td># Liquidation\\n\\nOn LP Finance, there are two ...</td>\n",
       "      <td>[0.006852426566183567, 0.0092744966968894, 0.0...</td>\n",
       "    </tr>\n",
       "    <tr>\n",
       "      <th>8</th>\n",
       "      <td>docs/protocol/oracles.md</td>\n",
       "      <td>https://docs.lp.finance/protocol/oracles</td>\n",
       "      <td># Oracles\\n\\n* **SOL**: [https://switchboard.x...</td>\n",
       "      <td>[0.015092517249286175, -0.009464324451982975, ...</td>\n",
       "    </tr>\n",
       "    <tr>\n",
       "      <th>9</th>\n",
       "      <td>docs/lpfi-staking/lpfi-staking.md</td>\n",
       "      <td>https://docs.lp.finance/lpfi-staking/lpfi-staking</td>\n",
       "      <td># LPFi Staking\\n\\nRevenue genereated by protoc...</td>\n",
       "      <td>[0.009969319216907024, 0.0034121794160455465, ...</td>\n",
       "    </tr>\n",
       "    <tr>\n",
       "      <th>10</th>\n",
       "      <td>docs/governance/governance.md</td>\n",
       "      <td>https://docs.lp.finance/governance/governance</td>\n",
       "      <td># Governance\\n\\nLP Finance is governed by xLPF...</td>\n",
       "      <td>[0.03034328855574131, 0.02113001048564911, -0....</td>\n",
       "    </tr>\n",
       "    <tr>\n",
       "      <th>11</th>\n",
       "      <td>docs/addresses/programs.md</td>\n",
       "      <td>https://docs.lp.finance/addresses/programs</td>\n",
       "      <td># Programs\\n\\n### zSOL Issuance Program (lpfin...</td>\n",
       "      <td>[-0.0034743482246994972, 0.004760395735502243,...</td>\n",
       "    </tr>\n",
       "    <tr>\n",
       "      <th>12</th>\n",
       "      <td>docs/addresses/tokens.md</td>\n",
       "      <td>https://docs.lp.finance/addresses/tokens</td>\n",
       "      <td># Tokens\\n\\n### zSOL\\n\\n{% embed url=\"https://...</td>\n",
       "      <td>[0.004183412995189428, 0.03058781288564205, -0...</td>\n",
       "    </tr>\n",
       "    <tr>\n",
       "      <th>13</th>\n",
       "      <td>docs/links/links.md</td>\n",
       "      <td>https://docs.lp.finance/links/links</td>\n",
       "      <td># Links\\n\\n### LP Finance App\\n\\n{% embed url=...</td>\n",
       "      <td>[0.003131524194031954, 0.029541313648223877, 0...</td>\n",
       "    </tr>\n",
       "  </tbody>\n",
       "</table>\n",
       "</div>"
      ],
      "text/plain": [
       "                                              name  \\\n",
       "0                                   docs/README.md   \n",
       "1     docs/lp-finance-protocol/quick-user-guide.md   \n",
       "2   docs/lp-finance-protocol/view-protocol-data.md   \n",
       "3             docs/lp-finance-protocol/user-faq.md   \n",
       "4          docs/protocol/minting-borrowing-zsol.md   \n",
       "5    docs/protocol/zsol-sol-liquidity-providers.md   \n",
       "6            docs/protocol/peg-stability-module.md   \n",
       "7                     docs/protocol/liquidation.md   \n",
       "8                         docs/protocol/oracles.md   \n",
       "9                docs/lpfi-staking/lpfi-staking.md   \n",
       "10                   docs/governance/governance.md   \n",
       "11                      docs/addresses/programs.md   \n",
       "12                        docs/addresses/tokens.md   \n",
       "13                             docs/links/links.md   \n",
       "\n",
       "                                                  url  \\\n",
       "0                            https://docs.lp.finance/   \n",
       "1   https://docs.lp.finance/lp-finance-protocol/qu...   \n",
       "2   https://docs.lp.finance/lp-finance-protocol/vi...   \n",
       "3   https://docs.lp.finance/lp-finance-protocol/us...   \n",
       "4   https://docs.lp.finance/protocol/minting-borro...   \n",
       "5   https://docs.lp.finance/protocol/zsol-sol-liqu...   \n",
       "6   https://docs.lp.finance/protocol/peg-stability...   \n",
       "7        https://docs.lp.finance/protocol/liquidation   \n",
       "8            https://docs.lp.finance/protocol/oracles   \n",
       "9   https://docs.lp.finance/lpfi-staking/lpfi-staking   \n",
       "10      https://docs.lp.finance/governance/governance   \n",
       "11         https://docs.lp.finance/addresses/programs   \n",
       "12           https://docs.lp.finance/addresses/tokens   \n",
       "13                https://docs.lp.finance/links/links   \n",
       "\n",
       "                                                 text  \\\n",
       "0   ---\\ndescription: >-\\n  In this document, the ...   \n",
       "1   # Quick User Guide\\n\\n## Deposit Collateral\\n\\...   \n",
       "2   # View Protocol Data\\n\\n<figure><img src=\"../....   \n",
       "3   # User FAQ\\n\\n### Why is \"Your Account\" page n...   \n",
       "4   # Minting/Borrowing zSOL\\n\\nzSOL is a over col...   \n",
       "5   # zSOL-SOL Liquidity Providers\\n\\nzSOL-SOL liq...   \n",
       "6   # Peg-stability Module\\n\\nPeg-stability module...   \n",
       "7   # Liquidation\\n\\nOn LP Finance, there are two ...   \n",
       "8   # Oracles\\n\\n* **SOL**: [https://switchboard.x...   \n",
       "9   # LPFi Staking\\n\\nRevenue genereated by protoc...   \n",
       "10  # Governance\\n\\nLP Finance is governed by xLPF...   \n",
       "11  # Programs\\n\\n### zSOL Issuance Program (lpfin...   \n",
       "12  # Tokens\\n\\n### zSOL\\n\\n{% embed url=\"https://...   \n",
       "13  # Links\\n\\n### LP Finance App\\n\\n{% embed url=...   \n",
       "\n",
       "                                            embedding  \n",
       "0   [0.0030690261628478765, 0.014892998151481152, ...  \n",
       "1   [0.009227563627064228, 0.02060684561729431, 0....  \n",
       "2   [0.006939202547073364, 0.016189193353056908, 0...  \n",
       "3   [-0.009891600348055363, 0.009116998873651028, ...  \n",
       "4   [0.002876314101740718, 0.02002980187535286, 0....  \n",
       "5   [0.01576395332813263, 0.019564801827073097, 0....  \n",
       "6   [0.009073340333998203, 0.014598997309803963, -...  \n",
       "7   [0.006852426566183567, 0.0092744966968894, 0.0...  \n",
       "8   [0.015092517249286175, -0.009464324451982975, ...  \n",
       "9   [0.009969319216907024, 0.0034121794160455465, ...  \n",
       "10  [0.03034328855574131, 0.02113001048564911, -0....  \n",
       "11  [-0.0034743482246994972, 0.004760395735502243,...  \n",
       "12  [0.004183412995189428, 0.03058781288564205, -0...  \n",
       "13  [0.003131524194031954, 0.029541313648223877, 0...  "
      ]
     },
     "execution_count": 16,
     "metadata": {},
     "output_type": "execute_result"
    }
   ],
   "source": [
    "df[\"embedding\"] = df.text.apply(lambda x: get_embedding(x))\n",
    "df"
   ]
  },
  {
   "cell_type": "markdown",
   "metadata": {},
   "source": [
    "## Check Similarity"
   ]
  },
  {
   "cell_type": "code",
   "execution_count": 17,
   "metadata": {},
   "outputs": [],
   "source": [
    "import torch\n",
    "\n",
    "def get_similarity(question, url_array, embedding_array):\n",
    "    similarity_array = []\n",
    "    for i in range(len(embedding_array)):\n",
    "        question_embedding = openai.Embedding.create(\n",
    "            input=question, model=\"text-embedding-ada-002\"\n",
    "        )[\"data\"][0][\"embedding\"]\n",
    "        cos = torch.nn.CosineSimilarity(dim=0, eps=1e-6)\n",
    "        similarity = cos(torch.FloatTensor(question_embedding), torch.FloatTensor(embedding_array[i]))\n",
    "        similarity_array.append(similarity)\n",
    "        \n",
    "    max_similarity = max(similarity_array)\n",
    "    idx = similarity_array.index(max_similarity)\n",
    "    print(similarity_array)\n",
    "    \n",
    "    return url_array[idx]"
   ]
  },
  {
   "cell_type": "code",
   "execution_count": 18,
   "metadata": {},
   "outputs": [
    {
     "name": "stdout",
     "output_type": "stream",
     "text": [
      "[tensor(0.6961), tensor(0.6848), tensor(0.6789), tensor(0.6718), tensor(0.6759), tensor(0.7024), tensor(0.8024), tensor(0.6765), tensor(0.6769), tensor(0.6867), tensor(0.6725), tensor(0.6815), tensor(0.6704), tensor(0.6571)]\n"
     ]
    },
    {
     "data": {
      "text/plain": [
       "'https://docs.lp.finance/protocol/peg-stability-module'"
      ]
     },
     "execution_count": 18,
     "metadata": {},
     "output_type": "execute_result"
    }
   ],
   "source": [
    "get_similarity(\"How does PSM work?\",df[\"url\"].tolist(), df[\"embedding\"].tolist())"
   ]
  },
  {
   "cell_type": "code",
   "execution_count": null,
   "metadata": {},
   "outputs": [],
   "source": []
  }
 ],
 "metadata": {
  "kernelspec": {
   "display_name": "Python 3 (ipykernel)",
   "language": "python",
   "name": "python3"
  },
  "language_info": {
   "codemirror_mode": {
    "name": "ipython",
    "version": 3
   },
   "file_extension": ".py",
   "mimetype": "text/x-python",
   "name": "python",
   "nbconvert_exporter": "python",
   "pygments_lexer": "ipython3",
   "version": "3.11.1"
  },
  "vscode": {
   "interpreter": {
    "hash": "aee8b7b246df8f9039afb4144a1f6fd8d2ca17a180786b69acc140d282b71a49"
   }
  }
 },
 "nbformat": 4,
 "nbformat_minor": 2
}
